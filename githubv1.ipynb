{
 "cells": [
  {
   "cell_type": "code",
   "execution_count": 1,
   "metadata": {},
   "outputs": [],
   "source": [
    "import os\n",
    "import numpy as np"
   ]
  },
  {
   "cell_type": "code",
   "execution_count": 2,
   "metadata": {},
   "outputs": [],
   "source": [
    "def IsingLBP(infname,outfname,r,Tmin,Tmax,n_steps = 30,h = 0.0,MC = 1,max_iters = 10,tol = 0.001):\n",
    "    \n",
    "    \"\"\"\n",
    "    inputs:\n",
    "        infname: name of text file containing undirected network edge list. place file in 'loopy_BP' folder. \n",
    "        outfname: name of text file to write results to. place file in 'loopy_BP' folder. \n",
    "            each line in file is: 'temperature', 'magnetization','specific heat','entropy'\n",
    "            these lines will print to the terminal as they are evaluated\n",
    "        r: order of approximation defined in paper. r = 0 is standard BP, and larger r gives better approximations but slower computation time.\n",
    "        Tmin,Tmax: range of temperature values to consider. note that boltzmann constant is ingored in Ising model definition.\n",
    "        n_steps: number of temperature intervals\n",
    "        h = Ising model constant external field. (code not adapted for non-zero field yet, so ignore)\n",
    "        MC: gives option for local MCMC for expectation evaluation. keep set to 1.\n",
    "        max_iters: max allowed # of iterations for the message passing to converge\n",
    "        tol: tolerance for convergence of message passing\n",
    "        \n",
    "    constants defined in include/neighborhoods.h:\n",
    "        max_neig_size_exact: maximum neighborhood size Ni to exactly compute 2^Ni local summations over states. for larger Ni, use local MCMC. \n",
    "        samples_per_spin: number of samples per spin to do for local MCMC sampling.\n",
    "        max_samples: maximum number of samples in local neighborhood for MCMC sampling\n",
    "        wolff_interval = 1: sampling frequency for local MCMC wolff algorithm \n",
    "    \"\"\"\n",
    "    \n",
    "    system_command = './loopy_BP/loopyBP '+'loopy_BP/'+infname+' '+str(int(r))+' '+str(float(Tmin))\\\n",
    "                    +' '+str(float(Tmax))+' '+str(int(n_steps))+' '+str(float(h))+' '+str(int(MC))\\\n",
    "                    +' '+str(int(max_iters))+' '+str(float(tol))+' '+'loopy_BP/'+outfname\n",
    "    os.system(system_command)\n",
    "    \n",
    "    return np.loadtxt('loopy_BP/'+outfname)"
   ]
  },
  {
   "cell_type": "code",
   "execution_count": 3,
   "metadata": {},
   "outputs": [],
   "source": [
    "results = IsingLBP('power.txt','out.txt',r = 1,Tmin = 0.1,Tmax = 2.5,n_steps = 30,h = 0.0,MC = 1,max_iters = 10,tol = 0.001)"
   ]
  },
  {
   "cell_type": "code",
   "execution_count": null,
   "metadata": {},
   "outputs": [],
   "source": []
  }
 ],
 "metadata": {
  "kernelspec": {
   "display_name": "Python 3",
   "language": "python",
   "name": "python3"
  },
  "language_info": {
   "codemirror_mode": {
    "name": "ipython",
    "version": 3
   },
   "file_extension": ".py",
   "mimetype": "text/x-python",
   "name": "python",
   "nbconvert_exporter": "python",
   "pygments_lexer": "ipython3",
   "version": "3.8.2"
  }
 },
 "nbformat": 4,
 "nbformat_minor": 4
}
